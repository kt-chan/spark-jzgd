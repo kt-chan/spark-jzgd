{
 "cells": [
  {
   "cell_type": "code",
   "execution_count": 1,
   "metadata": {},
   "outputs": [
    {
     "name": "stdout",
     "output_type": "stream",
     "text": [
      "[2023-05-19 14:09:21,680] root {<ipython-input-1-0a2089590fb1>:22} INFO - Using following scale configuration: \n",
      "[2023-05-19 14:09:21,682] root {<ipython-input-1-0a2089590fb1>:24} INFO - scale_gb:1\n",
      "[2023-05-19 14:09:21,684] root {<ipython-input-1-0a2089590fb1>:24} INFO - batch_k:100\n",
      "[2023-05-19 14:09:21,687] root {<ipython-input-1-0a2089590fb1>:24} INFO - timespan_days:7\n",
      "[2023-05-19 14:09:21,689] root {<ipython-input-1-0a2089590fb1>:24} INFO - droptable:True\n",
      "[2023-05-19 14:09:21,690] root {<ipython-input-1-0a2089590fb1>:24} INFO - debugmode:True\n",
      "[2023-05-19 14:09:21,692] root {<ipython-input-1-0a2089590fb1>:37} INFO - Using following system configuration: \n",
      "[2023-05-19 14:09:21,693] root {<ipython-input-1-0a2089590fb1>:39} INFO - spark.app.name:\"Remote Spark\"\n",
      "[2023-05-19 14:09:21,695] root {<ipython-input-1-0a2089590fb1>:39} INFO - spark.master.hostpath:\"spark://spark-master:7077\"\n",
      "[2023-05-19 14:09:21,697] root {<ipython-input-1-0a2089590fb1>:39} INFO - hive.metastore.uris:\"thrift://hms-service:9083\"\n",
      "[2023-05-19 14:09:21,699] root {<ipython-input-1-0a2089590fb1>:39} INFO - spark.sql.warehouse.dir:\"hdfs://hadoop-service:9000/user/hive/warehouse\"\n",
      "[2023-05-19 14:09:21,700] root {<ipython-input-1-0a2089590fb1>:39} INFO - spark_driver_cores:2\n",
      "[2023-05-19 14:09:21,705] root {<ipython-input-1-0a2089590fb1>:39} INFO - spark.driver.memory:2G\n",
      "[2023-05-19 14:09:21,707] root {<ipython-input-1-0a2089590fb1>:39} INFO - spark.executor.cores:1\n",
      "[2023-05-19 14:09:21,709] root {<ipython-input-1-0a2089590fb1>:39} INFO - spark.executor.memory:1G\n"
     ]
    }
   ],
   "source": [
    "import sys,os,logging\n",
    "import argparse\n",
    "\n",
    "\n",
    "date_strftime_format = \"%d-%b-%y %H:%M:%S\"\n",
    "logging.basicConfig(stream=sys.stdout, level=logging.INFO, format='[%(asctime)s] %(name)s {%(filename)s:%(lineno)d} %(levelname)s - %(message)s',)\n",
    "\n",
    "parser = argparse.ArgumentParser()\n",
    "parser.add_argument(\"--f\", \"--filepath\", type=str, default=\"./conf/default.conf\", help='provide configuration filepath')\n",
    "args = parser.parse_args(args=['--filepath', './conf/default.conf'])\n",
    "configFilePath = args.f\n",
    "\n",
    "from configparser import ConfigParser\n",
    "config_object = ConfigParser()\n",
    "config_object.read(configFilePath)\n",
    "scaleinfo = config_object[\"SCALEINFO\"]\n",
    "scale = scaleinfo.getint(\"scale_gb\")\n",
    "batch = scaleinfo.getint(\"batch_k\")\n",
    "timespan_days = scaleinfo.getint(\"timespan_days\")\n",
    "droptable = scaleinfo.getboolean(\"droptable\")\n",
    "\n",
    "logging.info(\"Using following scale configuration: \")\n",
    "for (each_key, each_val) in config_object.items(config_object[\"SCALEINFO\"].name):\n",
    "    logging.info( each_key + \":\" + each_val)\n",
    "\n",
    "    \n",
    "systeminfo = config_object[\"SYSTEMINFO\"]\n",
    "SPARK_APP_NAME = str(systeminfo.get(\"spark.app.name\")).strip('\\\"')\n",
    "SPARK_MASTER = str(systeminfo.get(\"spark.master.hostpath\")).strip('\\\"')\n",
    "HIVE_HMS_HOST= str(systeminfo.get(\"hive.metastore.uris\")).strip('\\\"')\n",
    "SPARK_WAREHOUSE_DIR = str(systeminfo.get(\"spark.sql.warehouse.dir\")).strip('\\\"')\n",
    "SPARK_DRIVER_CORES = systeminfo.getint(\"spark_driver_cores\")\n",
    "SPARK_DRIVER_MEMORY = str(systeminfo.get(\"spark.driver.memory\")).strip('\\\"')\n",
    "SPARK_EXECUTOR_CORES = systeminfo.getint(\"spark.executor.cores\")\n",
    "SPARK_DRIVER_MEMORY = str(systeminfo.get(\"spark.executor.memory\")).strip('\\\"')\n",
    "\n",
    "logging.info(\"Using following system configuration: \")\n",
    "for (each_key, each_val) in config_object.items(config_object[\"SYSTEMINFO\"].name):\n",
    "    logging.info( each_key + \":\" + each_val)"
   ]
  },
  {
   "cell_type": "code",
   "execution_count": 2,
   "metadata": {},
   "outputs": [
    {
     "name": "stdout",
     "output_type": "stream",
     "text": [
      "[2023-05-19 14:09:22,882] numexpr.utils {utils.py:141} INFO - NumExpr defaulting to 8 threads.\n",
      "[2023-05-19 14:09:37,014] root {<ipython-input-2-86992297f6c8>:26} INFO - Spark Version: 3.3.1\n",
      "[2023-05-19 14:09:37,018] root {<ipython-input-2-86992297f6c8>:27} INFO - PySpark Version: 3.3.1\n",
      "[2023-05-19 14:09:37,023] root {<ipython-input-2-86992297f6c8>:28} INFO - Pandas Version: 1.3.5\n"
     ]
    }
   ],
   "source": [
    "import math\n",
    "import pyspark\n",
    "import pandas as pd\n",
    "import numpy as np\n",
    "\n",
    "from pyspark.sql import SQLContext, SparkSession\n",
    "from pyspark.sql.functions  import from_unixtime\n",
    "from time import sleep\n",
    "\n",
    "spark = SparkSession \\\n",
    "        .builder \\\n",
    "        .appName(SPARK_APP_NAME) \\\n",
    "        .master(SPARK_MASTER) \\\n",
    "        .config(\"hive.metastore.uris\", HIVE_HMS_HOST) \\\n",
    "        .config(\"spark.sql.warehouse.dir\", SPARK_WAREHOUSE_DIR) \\\n",
    "        .config(\"spark_driver_cores\", SPARK_DRIVER_CORES) \\\n",
    "        .config(\"spark.driver.memory\", SPARK_DRIVER_MEMORY) \\\n",
    "        .config(\"spark.executor.cores\", SPARK_EXECUTOR_CORES) \\\n",
    "        .config(\"spark.executor.memory\", SPARK_DRIVER_MEMORY) \\\n",
    "        .enableHiveSupport() \\\n",
    "        .getOrCreate()\n",
    "\n",
    "spark.sparkContext.setLogLevel(\"INFO\")\n",
    "sqlContext = SQLContext(spark.sparkContext, sparkSession=spark)\n",
    "spark.sparkContext.version\n",
    "logging.info(\"Spark Version: \" + spark.version)\n",
    "logging.info(\"PySpark Version: \" + pyspark.__version__)\n",
    "logging.info(\"Pandas Version: \" + pd.__version__)"
   ]
  },
  {
   "cell_type": "code",
   "execution_count": 3,
   "metadata": {},
   "outputs": [
    {
     "name": "stdout",
     "output_type": "stream",
     "text": [
      "+---------+-------------------+-----------+\n",
      "|namespace|tableName          |isTemporary|\n",
      "+---------+-------------------+-----------+\n",
      "|sample   |tb_sev_u           |false      |\n",
      "|sample   |tb_test            |false      |\n",
      "|sample   |tb_test_num        |false      |\n",
      "|sample   |tb_test_num_tmp    |false      |\n",
      "|sample   |tb_test_qf_lastest |false      |\n",
      "|sample   |tb_test_qf_stat    |false      |\n",
      "|sample   |tb_test_qf_stat_log|false      |\n",
      "+---------+-------------------+-----------+\n",
      "\n"
     ]
    }
   ],
   "source": [
    "sqlContext.sql(\"use sample;\")\n",
    "df = sqlContext.sql(\"show tables;\")\n",
    "df.show(100,False)"
   ]
  },
  {
   "cell_type": "code",
   "execution_count": 4,
   "metadata": {},
   "outputs": [
    {
     "name": "stdout",
     "output_type": "stream",
     "text": [
      "+---+-----------+--------------------+---+---+---+-------------+----------+\n",
      "|f22|f02        |f16                 |cnt|f06|f07|bd           |ad        |\n",
      "+---+-----------+--------------------+---+---+---+-------------+----------+\n",
      "|3  |19218983881|Great you found me !|16 |0  |7  |2023-05-12-20|2023051712|\n",
      "|3  |19218983887|Great you found me !|11 |0  |7  |2023-05-12-20|2023051712|\n",
      "|3  |19218983880|Great you found me !|17 |0  |7  |2023-05-12-20|2023051712|\n",
      "|3  |19218983885|Great you found me !|14 |0  |7  |2023-05-12-20|2023051712|\n",
      "|3  |19218983882|Great you found me !|11 |0  |7  |2023-05-12-20|2023051712|\n",
      "|3  |19218983883|Great you found me !|12 |0  |7  |2023-05-12-21|2023051712|\n",
      "|3  |19218983887|Great you found me !|13 |0  |7  |2023-05-12-21|2023051712|\n",
      "|3  |19218983885|Great you found me !|11 |0  |7  |2023-05-12-21|2023051712|\n",
      "|3  |19218983881|Great you found me !|13 |0  |7  |2023-05-12-21|2023051712|\n",
      "|3  |19218983889|Great you found me !|11 |0  |7  |2023-05-12-21|2023051712|\n",
      "|3  |19218983882|Great you found me !|16 |0  |7  |2023-05-12-21|2023051712|\n",
      "|3  |19218983885|Great you found me !|14 |0  |7  |2023-05-12-22|2023051712|\n",
      "|3  |19218983883|Great you found me !|15 |0  |7  |2023-05-12-22|2023051712|\n",
      "|3  |19218983886|Great you found me !|12 |0  |7  |2023-05-12-22|2023051712|\n",
      "|3  |19218983884|Great you found me !|11 |0  |7  |2023-05-12-22|2023051712|\n",
      "|3  |19218983882|Great you found me !|13 |0  |7  |2023-05-12-22|2023051712|\n",
      "|3  |19218983880|Great you found me !|11 |0  |7  |2023-05-12-22|2023051712|\n",
      "|3  |19218983881|Great you found me !|16 |0  |7  |2023-05-12-22|2023051712|\n",
      "|3  |19218983888|Great you found me !|12 |0  |7  |2023-05-12-22|2023051712|\n",
      "|3  |19218983887|Great you found me !|15 |0  |7  |2023-05-12-23|2023051712|\n",
      "|3  |19218983886|Great you found me !|11 |0  |7  |2023-05-12-23|2023051712|\n",
      "|3  |19218983883|Great you found me !|14 |0  |7  |2023-05-12-23|2023051712|\n",
      "|3  |19218983880|Great you found me !|13 |0  |7  |2023-05-12-23|2023051712|\n",
      "|3  |19218983881|Great you found me !|15 |0  |7  |2023-05-12-23|2023051712|\n",
      "|3  |19218983882|Great you found me !|14 |0  |7  |2023-05-12-23|2023051712|\n",
      "|3  |19218983889|Great you found me !|13 |0  |7  |2023-05-12-23|2023051712|\n",
      "|3  |19218983888|Great you found me !|12 |0  |7  |2023-05-12-23|2023051712|\n",
      "|3  |19218983888|Great you found me !|12 |0  |7  |2023-05-13-00|2023051712|\n",
      "|3  |19218983885|Great you found me !|13 |0  |7  |2023-05-13-00|2023051712|\n",
      "|3  |19218983889|Great you found me !|13 |0  |7  |2023-05-13-00|2023051712|\n",
      "|3  |19218983886|Great you found me !|17 |0  |7  |2023-05-13-00|2023051712|\n",
      "|3  |19218983887|Great you found me !|12 |0  |7  |2023-05-13-00|2023051712|\n",
      "|3  |19218983880|Great you found me !|15 |0  |7  |2023-05-13-00|2023051712|\n",
      "|3  |19218983889|Great you found me !|11 |0  |7  |2023-05-13-01|2023051712|\n",
      "|3  |19218983886|Great you found me !|13 |0  |7  |2023-05-13-01|2023051712|\n",
      "|3  |19218983884|Great you found me !|11 |0  |7  |2023-05-13-01|2023051712|\n",
      "|3  |19218983882|Great you found me !|12 |0  |7  |2023-05-13-01|2023051712|\n",
      "|3  |19218983888|Great you found me !|12 |0  |7  |2023-05-13-01|2023051712|\n",
      "|3  |19218983883|Great you found me !|14 |0  |7  |2023-05-13-01|2023051712|\n",
      "|3  |19218983885|Great you found me !|15 |0  |7  |2023-05-13-01|2023051712|\n",
      "|3  |19218983880|Great you found me !|12 |0  |7  |2023-05-13-01|2023051712|\n",
      "|3  |19218983889|Great you found me !|11 |0  |7  |2023-05-13-02|2023051712|\n",
      "|3  |19218983882|Great you found me !|13 |0  |7  |2023-05-13-02|2023051712|\n",
      "|3  |19218983886|Great you found me !|17 |0  |7  |2023-05-13-02|2023051712|\n",
      "|3  |19218983884|Great you found me !|21 |0  |7  |2023-05-13-02|2023051712|\n",
      "|3  |19218983888|Great you found me !|16 |0  |7  |2023-05-13-02|2023051712|\n",
      "|3  |19218983887|Great you found me !|15 |0  |7  |2023-05-13-03|2023051712|\n",
      "|3  |19218983882|Great you found me !|15 |0  |7  |2023-05-13-03|2023051712|\n",
      "|3  |19218983885|Great you found me !|11 |0  |7  |2023-05-13-03|2023051712|\n",
      "|3  |19218983883|Great you found me !|11 |0  |7  |2023-05-13-03|2023051712|\n",
      "|3  |19218983880|Great you found me !|13 |0  |7  |2023-05-13-03|2023051712|\n",
      "|3  |19218983880|Great you found me !|12 |0  |7  |2023-05-13-04|2023051712|\n",
      "|3  |19218983885|Great you found me !|18 |0  |7  |2023-05-13-04|2023051712|\n",
      "|3  |19218983886|Great you found me !|14 |0  |7  |2023-05-13-04|2023051712|\n",
      "|3  |19218983883|Great you found me !|16 |0  |7  |2023-05-13-04|2023051712|\n",
      "|3  |19218983882|Great you found me !|17 |0  |7  |2023-05-13-04|2023051712|\n",
      "|3  |19218983881|Great you found me !|12 |0  |7  |2023-05-13-04|2023051712|\n",
      "|3  |19218983889|Great you found me !|12 |0  |7  |2023-05-13-04|2023051712|\n",
      "|3  |19218983885|Great you found me !|14 |0  |7  |2023-05-13-05|2023051712|\n",
      "|3  |19218983882|Great you found me !|11 |0  |7  |2023-05-13-05|2023051712|\n",
      "|3  |19218983888|Great you found me !|11 |0  |7  |2023-05-13-05|2023051712|\n",
      "|3  |19218983881|Great you found me !|15 |0  |7  |2023-05-13-05|2023051712|\n",
      "|3  |19218983887|Great you found me !|15 |0  |7  |2023-05-13-06|2023051712|\n",
      "|3  |19218983885|Great you found me !|12 |0  |7  |2023-05-13-06|2023051712|\n",
      "|3  |19218983884|Great you found me !|16 |0  |7  |2023-05-13-06|2023051712|\n",
      "|3  |19218983882|Great you found me !|16 |0  |7  |2023-05-13-06|2023051712|\n",
      "|3  |19218983886|Great you found me !|12 |0  |7  |2023-05-13-06|2023051712|\n",
      "|3  |19218983884|Great you found me !|15 |0  |7  |2023-05-13-07|2023051712|\n",
      "|3  |19218983888|Great you found me !|12 |0  |7  |2023-05-13-07|2023051712|\n",
      "|3  |19218983886|Great you found me !|12 |0  |7  |2023-05-13-07|2023051712|\n",
      "|3  |19218983880|Great you found me !|14 |0  |7  |2023-05-13-07|2023051712|\n",
      "|3  |19218983882|Great you found me !|12 |0  |7  |2023-05-13-07|2023051712|\n",
      "|3  |19218983887|Great you found me !|13 |0  |7  |2023-05-13-07|2023051712|\n",
      "|3  |19218983883|Great you found me !|16 |0  |7  |2023-05-13-07|2023051712|\n",
      "|3  |19218983889|Great you found me !|15 |0  |7  |2023-05-13-07|2023051712|\n",
      "|3  |19218983881|Great you found me !|11 |0  |7  |2023-05-13-08|2023051712|\n",
      "|3  |19218983880|Great you found me !|16 |0  |7  |2023-05-13-08|2023051712|\n",
      "|3  |19218983882|Great you found me !|15 |0  |7  |2023-05-13-08|2023051712|\n",
      "|3  |19218983889|Great you found me !|15 |0  |7  |2023-05-13-08|2023051712|\n",
      "|3  |19218983886|Great you found me !|16 |0  |7  |2023-05-13-08|2023051712|\n",
      "|3  |19218983884|Great you found me !|14 |0  |7  |2023-05-13-09|2023051712|\n",
      "|3  |19218983889|Great you found me !|11 |0  |7  |2023-05-13-09|2023051712|\n",
      "|3  |19218983885|Great you found me !|17 |0  |7  |2023-05-13-09|2023051712|\n",
      "|3  |19218983881|Great you found me !|13 |0  |7  |2023-05-13-09|2023051712|\n",
      "|3  |19218983880|Great you found me !|16 |0  |7  |2023-05-13-09|2023051712|\n",
      "|3  |19218983888|Great you found me !|13 |0  |7  |2023-05-13-09|2023051712|\n",
      "|3  |19218983887|Great you found me !|16 |0  |7  |2023-05-13-09|2023051712|\n",
      "|3  |19218983889|Great you found me !|15 |0  |7  |2023-05-13-10|2023051712|\n",
      "|3  |19218983888|Great you found me !|13 |0  |7  |2023-05-13-10|2023051712|\n",
      "|3  |19218983887|Great you found me !|12 |0  |7  |2023-05-13-10|2023051712|\n",
      "|3  |19218983880|Great you found me !|18 |0  |7  |2023-05-13-10|2023051712|\n",
      "|3  |19218983886|Great you found me !|14 |0  |7  |2023-05-13-10|2023051712|\n",
      "|3  |19218983882|Great you found me !|19 |0  |7  |2023-05-13-10|2023051712|\n",
      "|3  |19218983881|Great you found me !|11 |0  |7  |2023-05-13-10|2023051712|\n",
      "|3  |19218983889|Great you found me !|12 |0  |7  |2023-05-13-11|2023051712|\n",
      "|3  |19218983883|Great you found me !|13 |0  |7  |2023-05-13-11|2023051712|\n",
      "|3  |19218983888|Great you found me !|21 |0  |7  |2023-05-13-11|2023051712|\n",
      "|3  |19218983884|Great you found me !|11 |0  |7  |2023-05-13-11|2023051712|\n",
      "|3  |19218983887|Great you found me !|12 |0  |7  |2023-05-13-11|2023051712|\n",
      "|3  |19218983881|Great you found me !|12 |0  |7  |2023-05-13-11|2023051712|\n",
      "+---+-----------+--------------------+---+---+---+-------------+----------+\n",
      "only showing top 100 rows\n",
      "\n"
     ]
    }
   ],
   "source": [
    "df = sqlContext.sql(\"select * from sample.tb_test_qf_stat order by ad, bd\")\n",
    "df.show(100,False)"
   ]
  },
  {
   "cell_type": "code",
   "execution_count": 5,
   "metadata": {},
   "outputs": [
    {
     "name": "stdout",
     "output_type": "stream",
     "text": [
      "+---+-----------+--------------------+---+-------------+---+---+\n",
      "|f22|f02        |f16                 |cnt|bd           |f06|f07|\n",
      "+---+-----------+--------------------+---+-------------+---+---+\n",
      "|3  |19218983880|Great you found me !|16 |2023-05-17-08|0  |7  |\n",
      "|3  |19218983881|Great you found me !|13 |2023-05-17-09|0  |7  |\n",
      "|3  |19218983882|Great you found me !|13 |2023-05-17-10|0  |7  |\n",
      "|3  |19218983883|Great you found me !|15 |2023-05-17-11|0  |7  |\n",
      "|3  |19218983884|Great you found me !|17 |2023-05-17-11|0  |7  |\n",
      "|3  |19218983885|Great you found me !|15 |2023-05-17-11|0  |7  |\n",
      "|3  |19218983886|Great you found me !|12 |2023-05-17-11|0  |7  |\n",
      "|3  |19218983887|Great you found me !|11 |2023-05-17-10|0  |7  |\n",
      "|3  |19218983888|Great you found me !|16 |2023-05-17-11|0  |7  |\n",
      "|3  |19218983889|Great you found me !|13 |2023-05-17-11|0  |7  |\n",
      "+---+-----------+--------------------+---+-------------+---+---+\n",
      "\n"
     ]
    }
   ],
   "source": [
    "df = sqlContext.sql(\"select * from sample.tb_test_qf_lastest;\")\n",
    "df.show(100,False)"
   ]
  },
  {
   "cell_type": "code",
   "execution_count": 6,
   "metadata": {},
   "outputs": [
    {
     "name": "stdout",
     "output_type": "stream",
     "text": [
      "+---+-----------+-------------+-------------+---+---+\n",
      "|f22|f02        |f_date       |l_date       |f06|f07|\n",
      "+---+-----------+-------------+-------------+---+---+\n",
      "|3  |19218983880|2023-05-12-20|2023-05-17-08|0  |7  |\n",
      "|3  |19218983881|2023-05-12-20|2023-05-17-09|0  |7  |\n",
      "|3  |19218983882|2023-05-12-20|2023-05-17-10|0  |7  |\n",
      "|3  |19218983883|2023-05-12-21|2023-05-17-11|0  |7  |\n",
      "|3  |19218983884|2023-05-12-22|2023-05-17-11|0  |7  |\n",
      "|3  |19218983885|2023-05-12-20|2023-05-17-11|0  |7  |\n",
      "|3  |19218983886|2023-05-12-22|2023-05-17-11|0  |7  |\n",
      "|3  |19218983887|2023-05-12-20|2023-05-17-10|0  |7  |\n",
      "|3  |19218983888|2023-05-12-22|2023-05-17-11|0  |7  |\n",
      "|3  |19218983889|2023-05-12-21|2023-05-17-11|0  |7  |\n",
      "+---+-----------+-------------+-------------+---+---+\n",
      "\n"
     ]
    }
   ],
   "source": [
    "df = sqlContext.sql(\" select * from sample.tb_test_num; \")\n",
    "df.show(100,False)"
   ]
  },
  {
   "cell_type": "code",
   "execution_count": 7,
   "metadata": {},
   "outputs": [],
   "source": [
    "spark.sparkContext.stop()"
   ]
  },
  {
   "cell_type": "code",
   "execution_count": null,
   "metadata": {},
   "outputs": [],
   "source": []
  }
 ],
 "metadata": {
  "kernelspec": {
   "display_name": "Python 3",
   "language": "python",
   "name": "python3"
  },
  "language_info": {
   "codemirror_mode": {
    "name": "ipython",
    "version": 3
   },
   "file_extension": ".py",
   "mimetype": "text/x-python",
   "name": "python",
   "nbconvert_exporter": "python",
   "pygments_lexer": "ipython3",
   "version": "3.7.6"
  }
 },
 "nbformat": 4,
 "nbformat_minor": 4
}
