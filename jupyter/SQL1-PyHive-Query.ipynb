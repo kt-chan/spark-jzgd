{
 "cells": [
  {
   "cell_type": "markdown",
   "metadata": {},
   "source": [
    "## !pip install --upgrade pip\n",
    "## !pip install SQLAlchemy==1.3\n",
    "## !pip install pyhive[hive]\n",
    "## !pip install thrift\n",
    "## !pip install sasl\n",
    "## !pip install thrift-sasl \n",
    "## !pip install psycopg2\n",
    "## \n",
    "## \n",
    "## /**\n",
    "## 注意：\n",
    "## @date1表示开始时间，@date2表示结束时间，一般两者相差一天，即取一天的数据。\n",
    "## bd/ad/ld/cp格式都是yyyymmddhh24，比如2023032301\n",
    "## @batchId表示批次的变量，yyyymmddhh24格式，比如2023032301\n",
    "## udf_is_null 自定义函数，用于判断字段是否为空，如果字段为空/null或者空字符串，都返回0，否则返回1\n",
    "## --主表建表语句 TABLE tb_test --每天1T数据，f02本端号码（去重后2千万），f04对端号码（去重后2千万），f16中文内容\n",
    "## */\n"
   ]
  },
  {
   "cell_type": "code",
   "execution_count": null,
   "metadata": {
    "tags": []
   },
   "outputs": [],
   "source": [
    "from sqlalchemy.engine import create_engine\n",
    "import pandas as pd\n",
    "\n",
    "engine = create_engine(\"hive://spark-thrift:10000/default\")\n",
    "pd.read_sql_query(\"create database IF NOT EXISTS sample;\", con=engine)\n",
    "pd.read_sql_query(\"use sample;\", con=engine)\n",
    "pd.read_sql_query(\"show tables;\", con=engine)\n"
   ]
  },
  {
   "cell_type": "code",
   "execution_count": null,
   "metadata": {
    "tags": []
   },
   "outputs": [],
   "source": [
    "pd.read_sql_query(\"\"\"drop table if exists tb_test\"\"\", con=engine)\n",
    "pd.read_sql_query(\"\"\"drop table if exists tb_sev_u\"\"\", con=engine)\n",
    "pd.read_sql_query(\"\"\"drop table if exists tb_test_qf_stat\"\"\", con=engine)\n",
    "\n",
    "pd.read_sql_query(\"\"\"\n",
    "CREATE TABLE tb_test\n",
    "(\n",
    "f01    BIGINT comment 'unix_timestamp',\n",
    "f02    string comment 'f02本端号码（去重后2千万）',\n",
    "f03    string,\n",
    "f04    string comment 'f04对端号码（去重后2千万）, count distinct clause',\n",
    "f05    string,\n",
    "f06    string comment 'group by clause, ref-a',\n",
    "f07    string comment 'group by clause, ref-b',\n",
    "f08    string,\n",
    "f09    string,\n",
    "f10    INT,\n",
    "f11    string,\n",
    "f12    string,\n",
    "f13    string,\n",
    "f14    string comment 'data filtering col, where f14 = 49',\n",
    "f15    BIGINT,\n",
    "f16    string comment '中文文本内容，需要制表符转变',\n",
    "f17    string,\n",
    "f18    string,\n",
    "f19    INT,\n",
    "f20    string,\n",
    "f21    string,\n",
    "f22    INT comment '1st group by clause, maybe category',\n",
    "f23    string,\n",
    "f24    string,\n",
    "f25    string,\n",
    "f26    string,\n",
    "f27    string,\n",
    "f28    string,\n",
    "f29    string,\n",
    "f30    bigint comment 'business datetime',\n",
    "f31    bigint comment 'processing datetime'\n",
    ") partitioned by (cp bigint, ld bigint) \n",
    "stored as orc tblproperties (\"orc.compress\"=\"ZLIB\");\n",
    "\"\"\", con=engine)\n",
    "\n",
    "pd.read_sql_query(\"\"\"\n",
    "create table tb_sev_u (id string, name string);\n",
    "\"\"\", con=engine)\n",
    "\n",
    "pd.read_sql_query(\"\"\"\n",
    "create table if not exists tb_test_qf_stat(\n",
    "f22 string,\n",
    "f02 string,\n",
    "f16 string,\n",
    "cnt bigint,\n",
    "f06    string,\n",
    "f07    string\n",
    ")partitioned by (bd string, ad bigint);\n",
    "\"\"\", con=engine)"
   ]
  },
  {
   "cell_type": "code",
   "execution_count": null,
   "metadata": {
    "tags": []
   },
   "outputs": [],
   "source": [
    "pd.read_sql_query(\"show tables;\", con=engine)"
   ]
  },
  {
   "cell_type": "markdown",
   "metadata": {},
   "source": [
    "造数支持SQL Query测试"
   ]
  },
  {
   "cell_type": "code",
   "execution_count": null,
   "metadata": {
    "tags": []
   },
   "outputs": [],
   "source": [
    "cp = 2023032401\n",
    "ld = 2023032401\n",
    "pd.read_sql_query(\"\"\"\n",
    "insert into tb_test partition(cp={cp}, ld={ld})\n",
    "values\n",
    "(1683088297 , 'S15217958191' ,  'A123456' , 'S15217958192' , 'SAA' , 'SBB' , 'SCC' , 'SDD' , 'SEE' , 12345 , 'SFF' , 'SGG' , 'SHH' , 49 , 123456789 , 'S中文文本内容' , 'SII' , 'SJJ' , 123 , 'SLL' , 'SUU' , 234 , 'SWW' , 'SXX' , 'SYY' , 'SZZ' , 'SAAAA' , 'SABAB' , 'SACAC' , 2023032301 , 2023032301)\n",
    ", (1683088397 , 'S15217958192' , 'A133456' , 'S15317958192' , 'SAA' , 'SBB' , 'SCC' , 'SDD' , 'SEE' , 12345 , 'SFF' , 'SGG' , 'SHH' , 49 , 123456789 , 'S中文文本内容' , 'SII' , 'SJJ' , 123 , 'SLL' , 'SUU' , 234 , 'SWW' , 'SXX' , 'SYY' , 'SZZ' , 'SAAAA' , 'SABAB' , 'SACAC' , 2023032301 , 2023032301)\n",
    ", (1683088497 , 'S15217958193' , 'A143456' , 'S15417958192' , 'SAA' , 'SBB' , 'SCC' , 'SDD' , 'SEE' , 12345 , 'SFF' , 'SGG' , 'SHH' , 49 , 123456789 , 'S中文文本内容*1中文文本内容*2中文文本内容*3' , 'SII' , 'SJJ' , 123 , 'SLL' , 'SUU' , 234 , 'SWW' , 'SXX' , 'SYY' , 'SZZ' , 'SAAAA' , 'SABAB' , 'SACAC' , 2023032301 , 2023032301)\n",
    ", (1683088597 , 'S15217958194' , 'A153456' , 'S15517958192' , 'SAA' , 'SBB' , 'SCC' , 'SDD' , 'SEE' , 12345 , 'SFF' , 'SGG' , 'SHH' , 49 , 123456789 , 'S中文文本内容' , 'SII' , 'SJJ' , 123 , 'SLL' , 'SUU' , 234 , 'SWW' , 'SXX' , 'SYY' , 'SZZ' , 'SAAAA' , 'SABAB' , 'SACAC' , 2023032301 , 2023032301)\n",
    ", (1683088697 , 'S15217958195' , 'A163456' , 'S15617958192' , 'SAA' , 'SBB' , 'SCC' , 'SDD' , 'SEE' , 12345 , 'SFF' , 'SGG' , 'SHH' , 49 , 123456789 , 'S中文文本内容' , 'SII' , 'SJJ' , 123 , 'SLL' , 'SUU' , 234 , 'SWW' , 'SXX' , 'SYY' , 'SZZ' , 'SAAAA' , 'SABAB' , 'SACAC' , 2023032301 , 2023032301)\n",
    ", (1683088697 , 'S25217958195' , 'A163456' , 'S15617958192' , 'SAA' , 'SBB' , 'SCC' , 'SDD' , 'SEE' , 12345 , 'SFF' , 'SGG' , 'SHH' , 49 , 123456789 , 'S中文文本内容*1中文文本内容*2中文文本内容*3'  , 'SII' , 'SJJ' , 123 , 'SLL' , 'SUU' , 234 , 'SWW' , 'SXX' , 'SYY' , 'SZZ' , 'SAAAA' , 'SABAB' , 'SACAC' , 2023032301 , 2023032301)\n",
    ", (1683088697 , 'S25217958195' , 'A163456' , 'S15627958192' , 'SAA' , 'SBB' , 'SCC' , 'SDD' , 'SEE' , 12345 , 'SFF' , 'SGG' , 'SHH' , 49 , 123456789 , 'S中文文本内容*1中文文本内容*2中文文本内容*3'  , 'SII' , 'SJJ' , 123 , 'SLL' , 'SUU' , 234 , 'SWW' , 'SXX' , 'SYY' , 'SZZ' , 'SAAAA' , 'SABAB' , 'SACAC' , 2023032301 , 2023032301)\n",
    ", (1683088697 , 'S25217958195' , 'A163456' , 'S15637958192' , 'SAA' , 'SBB' , 'SCC' , 'SDD' , 'SEE' , 12345 , 'SFF' , 'SGG' , 'SHH' , 49 , 123456789 , 'S中文文本内容*1中文文本内容*2中文文本内容*3'  , 'SII' , 'SJJ' , 123 , 'SLL' , 'SUU' , 234 , 'SWW' , 'SXX' , 'SYY' , 'SZZ' , 'SAAAA' , 'SABAB' , 'SACAC' , 2023032301 , 2023032301)\n",
    ", (1683088697 , 'S25217958195' , 'A163456' , 'S15647958192' , 'SAA' , 'SBB' , 'SCC' , 'SDD' , 'SEE' , 12345 , 'SFF' , 'SGG' , 'SHH' , 49 , 123456789 , 'S中文文本内容*1中文文本内容*2中文文本内容*3'  , 'SII' , 'SJJ' , 123 , 'SLL' , 'SUU' , 234 , 'SWW' , 'SXX' , 'SYY' , 'SZZ' , 'SAAAA' , 'SABAB' , 'SACAC' , 2023032301 , 2023032301)\n",
    ", (1683088697 , 'S25217958195' , 'A163456' , 'S15657958192' , 'SAA' , 'SBB' , 'SCC' , 'SDD' , 'SEE' , 12345 , 'SFF' , 'SGG' , 'SHH' , 49 , 123456789 , 'S中文文本内容*1中文文本内容*2中文文本内容*3'  , 'SII' , 'SJJ' , 123 , 'SLL' , 'SUU' , 234 , 'SWW' , 'SXX' , 'SYY' , 'SZZ' , 'SAAAA' , 'SABAB' , 'SACAC' , 2023032301 , 2023032301)\n",
    ", (1683088697 , 'S25217958195' , 'A163456' , 'S15627958192' , 'SAA' , 'SBB' , 'SCC' , 'SDD' , 'SEE' , 12345 , 'SFF' , 'SGG' , 'SHH' , 49 , 123456789 , 'S中文文本内容*1中文文本内容*2中文文本内容*3'  , 'SII' , 'SJJ' , 123 , 'SLL' , 'SUU' , 234 , 'SWW' , 'SXX' , 'SYY' , 'SZZ' , 'SAAAA' , 'SABAB' , 'SACAC' , 2023032301 , 2023032301)\n",
    ", (1683088697 , 'S25217958195' , 'A163456' , 'S15637158192' , 'SAA' , 'SBB' , 'SCC' , 'SDD' , 'SEE' , 12345 , 'SFF' , 'SGG' , 'SHH' , 49 , 123456789 , 'S中文文本内容*1中文文本内容*2中文文本内容*3'  , 'SII' , 'SJJ' , 123 , 'SLL' , 'SUU' , 234 , 'SWW' , 'SXX' , 'SYY' , 'SZZ' , 'SAAAA' , 'SABAB' , 'SACAC' , 2023032301 , 2023032301)\n",
    ", (1683088697 , 'S25217958195' , 'A163456' , 'S15647258192' , 'SAA' , 'SBB' , 'SCC' , 'SDD' , 'SEE' , 12345 , 'SFF' , 'SGG' , 'SHH' , 49 , 123456789 , 'S中文文本内容*1中文文本内容*2中文文本内容*3'  , 'SII' , 'SJJ' , 123 , 'SLL' , 'SUU' , 234 , 'SWW' , 'SXX' , 'SYY' , 'SZZ' , 'SAAAA' , 'SABAB' , 'SACAC' , 2023032301 , 2023032301)\n",
    ", (1683088697 , 'S25217958195' , 'A163456' , 'S15657358192' , 'SAA' , 'SBB' , 'SCC' , 'SDD' , 'SEE' , 12345 , 'SFF' , 'SGG' , 'SHH' , 49 , 123456789 , 'S中文文本内容*1中文文本内容*2中文文本内容*3'  , 'SII' , 'SJJ' , 123 , 'SLL' , 'SUU' , 234 , 'SWW' , 'SXX' , 'SYY' , 'SZZ' , 'SAAAA' , 'SABAB' , 'SACAC' , 2023032301 , 2023032301)\n",
    ", (1683088697 , 'S25217958195' , 'A163456' , 'S15627458192' , 'SAA' , 'SBB' , 'SCC' , 'SDD' , 'SEE' , 12345 , 'SFF' , 'SGG' , 'SHH' , 49 , 123456789 , 'S中文文本内容*1中文文本内容*2中文文本内容*3'  , 'SII' , 'SJJ' , 123 , 'SLL' , 'SUU' , 234 , 'SWW' , 'SXX' , 'SYY' , 'SZZ' , 'SAAAA' , 'SABAB' , 'SACAC' , 2023032301 , 2023032301)\n",
    ", (1683088697 , 'S25217958195' , 'A163456' , 'S15637558192' , 'SAA' , 'SBB' , 'SCC' , 'SDD' , 'SEE' , 12345 , 'SFF' , 'SGG' , 'SHH' , 49 , 123456789 , 'S中文文本内容*1中文文本内容*2中文文本内容*3'  , 'SII' , 'SJJ' , 123 , 'SLL' , 'SUU' , 234 , 'SWW' , 'SXX' , 'SYY' , 'SZZ' , 'SAAAA' , 'SABAB' , 'SACAC' , 2023032301 , 2023032301)\n",
    ", (1683088697 , 'S25217958195' , 'A163456' , 'S15647658192' , 'SAA' , 'SBB' , 'SCC' , 'SDD' , 'SEE' , 12345 , 'SFF' , 'SGG' , 'SHH' , 49 , 123456789 , 'S中文文本内容*1中文文本内容*2中文文本内容*3'  , 'SII' , 'SJJ' , 123 , 'SLL' , 'SUU' , 234 , 'SWW' , 'SXX' , 'SYY' , 'SZZ' , 'SAAAA' , 'SABAB' , 'SACAC' , 2023032301 , 2023032301)\n",
    ", (1683088697 , 'S25217958195' , 'A163456' , 'S15657758192' , 'SAA' , 'SBB' , 'SCC' , 'SDD' , 'SEE' , 12345 , 'SFF' , 'SGG' , 'SHH' , 49 , 123456789 , 'S中文文本内容*1中文文本内容*2中文文本内容*3'  , 'SII' , 'SJJ' , 123 , 'SLL' , 'SUU' , 234 , 'SWW' , 'SXX' , 'SYY' , 'SZZ' , 'SAAAA' , 'SABAB' , 'SACAC' , 2023032301 , 2023032301)\n",
    "\n",
    "\"\"\".format(cp=cp, ld=ld), con=engine)\n",
    "\n",
    "pd.read_sql(\"\"\"select * from tb_test\"\"\", con=engine)"
   ]
  },
  {
   "cell_type": "code",
   "execution_count": null,
   "metadata": {
    "tags": []
   },
   "outputs": [],
   "source": [
    "pd.read_sql_query(\"\"\"\n",
    "insert into tb_sev_u\n",
    "values ('S15217958191','AA-BBBBBB-CCCCCC-1' )\n",
    ", ('S15217958192','AA-BBBBBB-CCCCCC-2' )\n",
    ", ('S15217958193','AA-BBBBBB-CCCCCC-3' )\n",
    ", ('S15217958194','AA-BBBBBB-CCCCCC-4' )\n",
    ", ('S15217958195','AA-BBBBBB-CCCCCC-5' )\n",
    "\"\"\", con=engine)\n",
    "\n",
    "pd.read_sql(\"\"\"select * from tb_sev_u\"\"\", con=engine)"
   ]
  },
  {
   "cell_type": "markdown",
   "metadata": {},
   "source": [
    "增量日志清洗输出给数仓,之前要设置 Hive 支持动态分区。"
   ]
  },
  {
   "cell_type": "code",
   "execution_count": null,
   "metadata": {
    "tags": []
   },
   "outputs": [],
   "source": [
    "pd.read_sql_query(\"\"\"set hive.exec.dynamic.partition=true;\"\"\", con=engine)"
   ]
  },
  {
   "cell_type": "code",
   "execution_count": null,
   "metadata": {
    "tags": []
   },
   "outputs": [],
   "source": [
    "pd.read_sql_query(\"\"\"set hive.exec.dynamic.partition.mode=nonstrict;\"\"\", con=engine)"
   ]
  },
  {
   "cell_type": "code",
   "execution_count": null,
   "metadata": {
    "tags": []
   },
   "outputs": [],
   "source": [
    "batchId = 2023032301\n",
    "date1 = 2023032301\n",
    "date2 = 2023032324\n",
    "\n",
    "pd.read_sql_query(\"alter table tb_test_qf_stat drop if exists partition (ad = {batchId})\".format(batchId=batchId), con=engine)\n",
    "\n",
    "query = \"\"\"\n",
    "with tb_test_qf_tmp as (\n",
    "    select trim(f02) as f02, trim(f04) as f04,trim(f22) as f22,\n",
    "    regexp_replace(regexp_replace(regexp_replace(trim(f16),'\\\\\\?+','\\?') ,'0+','0'),'[ \\t]+',' ') as f16,\n",
    "    from_unixtime(unix_timestamp(cast(f30 as string),'yyyyMMddhh'), 'yyyy-MM-dd')  as bd, \n",
    "    {batchId} as ad,\n",
    "    trim(f06) as f06,trim(f07) as f07\n",
    "    from tb_test t\n",
    "    where f31 >= {date1} and f31 < {date2} and f14 = '49'\n",
    "),\n",
    "tb_test_qf_tmp1 as (\n",
    "select a.f22,a.f02,a.f16, count(distinct a.f04) as cnt,a.bd ,a.ad,\n",
    "a.f06,a.f07\n",
    "from tb_test_qf_tmp a\n",
    "left join tb_sev_u b on a.f02 = b.id\n",
    "where a.f02 is not null and b.id is null\n",
    "and length(a.f16) > 10\n",
    "group by a.f22,a.f02,a.f16,a.bd,a.ad,a.f06,a.f07 having cnt > 10 \n",
    ")\n",
    "insert into tb_test_qf_stat partition(bd, ad)\n",
    "select f22,f02,f16,cnt,f06,f07,bd,ad\n",
    "from tb_test_qf_tmp1\n",
    "\"\"\".format(batchId=batchId, date1=date1, date2=date2)\n",
    "\n",
    "pd.set_option('display.max_colwidth', None)\n",
    "df = pd.read_sql_query(\"explain FORMATTED  \"+ query, con=engine)\n",
    "print(df)\n",
    "\n",
    "pd.read_sql_query(query, con=engine)"
   ]
  },
  {
   "cell_type": "code",
   "execution_count": null,
   "metadata": {
    "tags": []
   },
   "outputs": [],
   "source": [
    "query = \"\"\"\n",
    "select f22,f02,f16,cnt,bd,f06,f07 from\n",
    "( select *, row_number() over(partition by f02 order by bd desc ) rn from tb_test_qf_stat) t\n",
    "where t.rn =1;\n",
    "\"\"\"\n",
    "pd.read_sql_query(query, con=engine)\n"
   ]
  },
  {
   "cell_type": "code",
   "execution_count": null,
   "metadata": {},
   "outputs": [],
   "source": [
    "pd.read_sql_query(query, con=engine)"
   ]
  },
  {
   "cell_type": "markdown",
   "metadata": {},
   "source": [
    "使用 hive 外表读文字"
   ]
  },
  {
   "cell_type": "code",
   "execution_count": null,
   "metadata": {
    "tags": []
   },
   "outputs": [],
   "source": [
    "pd.read_sql_query(\"\"\"\n",
    "create table ext_tb_sev_u (big5context string) location '/user/hive/external/';\n",
    "\"\"\", con=engine)"
   ]
  },
  {
   "cell_type": "code",
   "execution_count": null,
   "metadata": {
    "tags": []
   },
   "outputs": [],
   "source": [
    " pd.read_sql_query(\"\"\"\n",
    " with tmp as (\n",
    " select right(big5context, cast((1+rand()*50) as int)) as f16 from ext_tb_sev_u where big5context is not null and length(trim(big5context)) > 0 \n",
    " ) ,\n",
    "tmp1 as (\n",
    " select\n",
    " regexp_replace(regexp_replace(regexp_replace(trim(f16),'\\\\\\?+','\\?') ,'0+','0'),'[ \\t]+',' ') as ftxt\n",
    " from tmp\n",
    " )\n",
    " select *\n",
    " from tmp1\n",
    " ;\"\"\", con=engine)"
   ]
  },
  {
   "cell_type": "code",
   "execution_count": null,
   "metadata": {
    "tags": []
   },
   "outputs": [],
   "source": [
    "pd.read_sql_query(\"\"\"select cast (least(cast(current_timestamp as int), 946656000+cast((1+rand()*1000000000) as int)) as timestamp) as unix_ts ;\"\"\", con=engine)"
   ]
  },
  {
   "cell_type": "code",
   "execution_count": null,
   "metadata": {
    "tags": []
   },
   "outputs": [],
   "source": [
    "pd.set_option('display.max_colwidth', None)\n",
    "pd.set_option('display.width', None)\n",
    "pd.set_option('display.max_rows', 100)\n",
    "pd.set_option('display.max_columns', 100)\n"
   ]
  },
  {
   "cell_type": "code",
   "execution_count": null,
   "metadata": {
    "tags": []
   },
   "outputs": [],
   "source": [
    "import pandas as pd\n",
    "import numpy as np\n",
    "batch_size = 10*1000\n",
    "LENGTH = 10\n",
    "\n",
    "df = pd.DataFrame()\n",
    "\n",
    "cols=[\"f01\", \"f02\",\"f03\", \"f04\", \"f05\", \"f06\", \"f07\", \"f08\", \"f09\", \"f10\",\"f11\",\"f12\",\"f13\",\"f14\",\"f15\",\"f16\",\"f17\",\"f18\",\"f19\",\"f20\",\"f21\",\"f22\",\"f23\",\"f24\",\"f25\",\"f26\",\"f27\",\"f28\",\"f29\",\"f30\",\"f31\" ]\n",
    "random_txtcols=[\"f03\",\"f05\",\"f08\",\"f09\",\"f11\",\"f12\",\"f13\",\"f16\",\"f17\",\"f18\",\"f20\",\"f21\",\"f23\",\"f24\",\"f25\",\"f26\",\"f27\",\"f28\",\"f29\"]\n",
    "alphabet = list('abcdefghijklmnopqrstuvwxyzABCDEFGHIJKLMNOPQRSTUVWXYZ0123456789')\n",
    "\n",
    "current_ts = int(pd.to_datetime(pd.Timestamp.now()).value/10**9)\n",
    "df2 = pd.DataFrame(np.random.randint(19200000000,19200000000+20000000,size=(batch_size,2)), columns=list([\"f02\", \"f04\"])) \n",
    "df1 = pd.DataFrame(np.random.randint(946656000, current_ts, size=(batch_size,1)),  columns=list([\"f01\"]))\n",
    "df6 = pd.DataFrame(np.random.randint(0, 10, size=(batch_size,5)),  columns=list([\"f06\", \"f07\", \"f10\", \"f15\", \"f19\"]))\n",
    "df14 = pd.DataFrame(np.random.randint(48, 51, size=(batch_size,1)),  columns=list([\"f14\"]))\n",
    "df22 = pd.DataFrame(np.random.randint(1, 10, size=(batch_size,1)),  columns=list([\"f22\"]))\n",
    "df30 = pd.DataFrame(np.random.randint(current_ts-(30*24*3600), current_ts, size=(batch_size,2)),  columns=list([\"f30\",\"f31\"]))\n",
    "\n",
    "for k in random_txtcols:\n",
    "    np_batchsize = np.random.choice(np.array(alphabet, dtype=\"|U1\"), [batch_size, LENGTH])\n",
    "    df[k] = pd.DataFrame( [\"\".join(np_batchsize[i]) for i in range(len(np_batchsize))], columns=[k])\n",
    "\n",
    "\n",
    "df = pd.concat([df1,df2, df6, df14, df22, df30, df], axis=1, join='inner')\n",
    "df = df[cols]\n",
    "df\n"
   ]
  },
  {
   "cell_type": "code",
   "execution_count": null,
   "metadata": {
    "tags": []
   },
   "outputs": [],
   "source": [
    "current_ts = int(pd.to_datetime(pd.Timestamp.now()).value/10**9)\n",
    "current_ts"
   ]
  },
  {
   "cell_type": "code",
   "execution_count": null,
   "metadata": {},
   "outputs": [],
   "source": []
  },
  {
   "cell_type": "code",
   "execution_count": null,
   "metadata": {},
   "outputs": [],
   "source": []
  }
 ],
 "metadata": {
  "kernelspec": {
   "display_name": "Python 3",
   "language": "python",
   "name": "python3"
  },
  "language_info": {
   "codemirror_mode": {
    "name": "ipython",
    "version": 3
   },
   "file_extension": ".py",
   "mimetype": "text/x-python",
   "name": "python",
   "nbconvert_exporter": "python",
   "pygments_lexer": "ipython3",
   "version": "3.7.6"
  }
 },
 "nbformat": 4,
 "nbformat_minor": 5
}
